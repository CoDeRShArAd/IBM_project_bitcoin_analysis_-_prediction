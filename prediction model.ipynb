{
 "cells": [
  {
   "cell_type": "code",
   "execution_count": 1,
   "id": "4e84a010",
   "metadata": {},
   "outputs": [],
   "source": [
    "#importing required libraries\n",
    "import numpy as np\n",
    "import pandas as pd\n",
    "import matplotlib.pyplot as plt"
   ]
  },
  {
   "cell_type": "code",
   "execution_count": 2,
   "id": "231fedbf",
   "metadata": {},
   "outputs": [],
   "source": [
    "import seaborn as sns"
   ]
  },
  {
   "cell_type": "code",
   "execution_count": 3,
   "id": "aac00752",
   "metadata": {},
   "outputs": [],
   "source": [
    "from sklearn.preprocessing import MinMaxScaler\n",
    "from keras.models import Sequential\n",
    "from keras.layers import Dense, Dropout, LSTM"
   ]
  },
  {
   "cell_type": "code",
   "execution_count": 5,
   "id": "57b7e5c7",
   "metadata": {},
   "outputs": [],
   "source": [
    "#Reading the data for prediction in csv format\n",
    "df2015= pd.read_csv('BTC_USD_2015-01-02_2015-12-30-CoinDesk.csv')\n",
    "df2016= pd.read_csv('BTC_USD_2016-01-02_2016-12-30.csv')\n",
    "df2017= pd.read_csv('BTC_USD_2017-01-02_2017-12-30.csv')\n",
    "df2018= pd.read_csv('BTC_USD_2018-01-02_2018-12-31.csv')\n",
    "df2019= pd.read_csv('BTC_USD_2019-01-03_2019-12-31.csv')\n",
    "df2020= pd.read_csv('BTC_USD_2020-01-03_2020-12-31.csv')\n",
    "dfs=[df2015,df2016,df2017,df2018,df2019,df2020]\n",
    "dfCrypto=pd.concat(dfs,ignore_index=True)"
   ]
  },
  {
   "cell_type": "code",
   "execution_count": 6,
   "id": "2ec2d55f",
   "metadata": {},
   "outputs": [
    {
     "data": {
      "text/html": [
       "<div>\n",
       "<style scoped>\n",
       "    .dataframe tbody tr th:only-of-type {\n",
       "        vertical-align: middle;\n",
       "    }\n",
       "\n",
       "    .dataframe tbody tr th {\n",
       "        vertical-align: top;\n",
       "    }\n",
       "\n",
       "    .dataframe thead th {\n",
       "        text-align: right;\n",
       "    }\n",
       "</style>\n",
       "<table border=\"1\" class=\"dataframe\">\n",
       "  <thead>\n",
       "    <tr style=\"text-align: right;\">\n",
       "      <th></th>\n",
       "      <th>Currency</th>\n",
       "      <th>Date</th>\n",
       "      <th>Closing Price (USD)</th>\n",
       "      <th>24h Open (USD)</th>\n",
       "      <th>24h High (USD)</th>\n",
       "      <th>24h Low (USD)</th>\n",
       "    </tr>\n",
       "  </thead>\n",
       "  <tbody>\n",
       "    <tr>\n",
       "      <th>0</th>\n",
       "      <td>BTC</td>\n",
       "      <td>2015-01-02</td>\n",
       "      <td>314.498990</td>\n",
       "      <td>317.204000</td>\n",
       "      <td>317.315990</td>\n",
       "      <td>312.567000</td>\n",
       "    </tr>\n",
       "    <tr>\n",
       "      <th>1</th>\n",
       "      <td>BTC</td>\n",
       "      <td>2015-01-03</td>\n",
       "      <td>311.140990</td>\n",
       "      <td>314.498990</td>\n",
       "      <td>315.565990</td>\n",
       "      <td>310.156000</td>\n",
       "    </tr>\n",
       "    <tr>\n",
       "      <th>2</th>\n",
       "      <td>BTC</td>\n",
       "      <td>2015-01-04</td>\n",
       "      <td>277.853000</td>\n",
       "      <td>311.140990</td>\n",
       "      <td>312.288000</td>\n",
       "      <td>275.952000</td>\n",
       "    </tr>\n",
       "    <tr>\n",
       "      <th>3</th>\n",
       "      <td>BTC</td>\n",
       "      <td>2015-01-05</td>\n",
       "      <td>270.813000</td>\n",
       "      <td>277.853000</td>\n",
       "      <td>286.243000</td>\n",
       "      <td>257.022000</td>\n",
       "    </tr>\n",
       "    <tr>\n",
       "      <th>4</th>\n",
       "      <td>BTC</td>\n",
       "      <td>2015-01-06</td>\n",
       "      <td>272.017500</td>\n",
       "      <td>270.813000</td>\n",
       "      <td>277.971990</td>\n",
       "      <td>265.240000</td>\n",
       "    </tr>\n",
       "    <tr>\n",
       "      <th>...</th>\n",
       "      <td>...</td>\n",
       "      <td>...</td>\n",
       "      <td>...</td>\n",
       "      <td>...</td>\n",
       "      <td>...</td>\n",
       "      <td>...</td>\n",
       "    </tr>\n",
       "    <tr>\n",
       "      <th>2175</th>\n",
       "      <td>BTC</td>\n",
       "      <td>2020-12-27</td>\n",
       "      <td>26381.296233</td>\n",
       "      <td>24708.206784</td>\n",
       "      <td>26750.879954</td>\n",
       "      <td>24497.410869</td>\n",
       "    </tr>\n",
       "    <tr>\n",
       "      <th>2176</th>\n",
       "      <td>BTC</td>\n",
       "      <td>2020-12-28</td>\n",
       "      <td>26389.290265</td>\n",
       "      <td>26447.708072</td>\n",
       "      <td>28352.627824</td>\n",
       "      <td>25759.068609</td>\n",
       "    </tr>\n",
       "    <tr>\n",
       "      <th>2177</th>\n",
       "      <td>BTC</td>\n",
       "      <td>2020-12-29</td>\n",
       "      <td>26718.029463</td>\n",
       "      <td>26226.066130</td>\n",
       "      <td>27447.551384</td>\n",
       "      <td>26046.625578</td>\n",
       "    </tr>\n",
       "    <tr>\n",
       "      <th>2178</th>\n",
       "      <td>BTC</td>\n",
       "      <td>2020-12-30</td>\n",
       "      <td>26975.729565</td>\n",
       "      <td>27038.735676</td>\n",
       "      <td>27169.225558</td>\n",
       "      <td>25875.049786</td>\n",
       "    </tr>\n",
       "    <tr>\n",
       "      <th>2179</th>\n",
       "      <td>BTC</td>\n",
       "      <td>2020-12-31</td>\n",
       "      <td>28768.836208</td>\n",
       "      <td>27349.327233</td>\n",
       "      <td>28928.214391</td>\n",
       "      <td>27349.283204</td>\n",
       "    </tr>\n",
       "  </tbody>\n",
       "</table>\n",
       "<p>2180 rows × 6 columns</p>\n",
       "</div>"
      ],
      "text/plain": [
       "     Currency        Date  Closing Price (USD)  24h Open (USD)  \\\n",
       "0         BTC  2015-01-02           314.498990      317.204000   \n",
       "1         BTC  2015-01-03           311.140990      314.498990   \n",
       "2         BTC  2015-01-04           277.853000      311.140990   \n",
       "3         BTC  2015-01-05           270.813000      277.853000   \n",
       "4         BTC  2015-01-06           272.017500      270.813000   \n",
       "...       ...         ...                  ...             ...   \n",
       "2175      BTC  2020-12-27         26381.296233    24708.206784   \n",
       "2176      BTC  2020-12-28         26389.290265    26447.708072   \n",
       "2177      BTC  2020-12-29         26718.029463    26226.066130   \n",
       "2178      BTC  2020-12-30         26975.729565    27038.735676   \n",
       "2179      BTC  2020-12-31         28768.836208    27349.327233   \n",
       "\n",
       "      24h High (USD)  24h Low (USD)  \n",
       "0         317.315990     312.567000  \n",
       "1         315.565990     310.156000  \n",
       "2         312.288000     275.952000  \n",
       "3         286.243000     257.022000  \n",
       "4         277.971990     265.240000  \n",
       "...              ...            ...  \n",
       "2175    26750.879954   24497.410869  \n",
       "2176    28352.627824   25759.068609  \n",
       "2177    27447.551384   26046.625578  \n",
       "2178    27169.225558   25875.049786  \n",
       "2179    28928.214391   27349.283204  \n",
       "\n",
       "[2180 rows x 6 columns]"
      ]
     },
     "execution_count": 6,
     "metadata": {},
     "output_type": "execute_result"
    }
   ],
   "source": [
    "dfCrypto"
   ]
  },
  {
   "cell_type": "code",
   "execution_count": 7,
   "id": "b74b41ca",
   "metadata": {},
   "outputs": [],
   "source": [
    "#importing required libraries\n",
    "from sklearn.preprocessing import MinMaxScaler\n",
    "from keras.models import Sequential\n",
    "from keras.layers import Dense, Dropout, LSTM"
   ]
  },
  {
   "cell_type": "code",
   "execution_count": 9,
   "id": "75ce3ba7",
   "metadata": {},
   "outputs": [
    {
     "name": "stderr",
     "output_type": "stream",
     "text": [
      "<ipython-input-9-692a94ea19a7>:2: SettingWithCopyWarning: \n",
      "A value is trying to be set on a copy of a slice from a DataFrame.\n",
      "Try using .loc[row_indexer,col_indexer] = value instead\n",
      "\n",
      "See the caveats in the documentation: https://pandas.pydata.org/pandas-docs/stable/user_guide/indexing.html#returning-a-view-versus-a-copy\n",
      "  newdata['Date'] = pd.to_datetime(newdata['Date'])\n"
     ]
    },
    {
     "data": {
      "text/html": [
       "<div>\n",
       "<style scoped>\n",
       "    .dataframe tbody tr th:only-of-type {\n",
       "        vertical-align: middle;\n",
       "    }\n",
       "\n",
       "    .dataframe tbody tr th {\n",
       "        vertical-align: top;\n",
       "    }\n",
       "\n",
       "    .dataframe thead th {\n",
       "        text-align: right;\n",
       "    }\n",
       "</style>\n",
       "<table border=\"1\" class=\"dataframe\">\n",
       "  <thead>\n",
       "    <tr style=\"text-align: right;\">\n",
       "      <th></th>\n",
       "      <th>Date</th>\n",
       "      <th>Closing Price (USD)</th>\n",
       "    </tr>\n",
       "  </thead>\n",
       "  <tbody>\n",
       "    <tr>\n",
       "      <th>0</th>\n",
       "      <td>2015-01-02</td>\n",
       "      <td>314.498990</td>\n",
       "    </tr>\n",
       "    <tr>\n",
       "      <th>1</th>\n",
       "      <td>2015-01-03</td>\n",
       "      <td>311.140990</td>\n",
       "    </tr>\n",
       "    <tr>\n",
       "      <th>2</th>\n",
       "      <td>2015-01-04</td>\n",
       "      <td>277.853000</td>\n",
       "    </tr>\n",
       "    <tr>\n",
       "      <th>3</th>\n",
       "      <td>2015-01-05</td>\n",
       "      <td>270.813000</td>\n",
       "    </tr>\n",
       "    <tr>\n",
       "      <th>4</th>\n",
       "      <td>2015-01-06</td>\n",
       "      <td>272.017500</td>\n",
       "    </tr>\n",
       "    <tr>\n",
       "      <th>...</th>\n",
       "      <td>...</td>\n",
       "      <td>...</td>\n",
       "    </tr>\n",
       "    <tr>\n",
       "      <th>2175</th>\n",
       "      <td>2020-12-27</td>\n",
       "      <td>26381.296233</td>\n",
       "    </tr>\n",
       "    <tr>\n",
       "      <th>2176</th>\n",
       "      <td>2020-12-28</td>\n",
       "      <td>26389.290265</td>\n",
       "    </tr>\n",
       "    <tr>\n",
       "      <th>2177</th>\n",
       "      <td>2020-12-29</td>\n",
       "      <td>26718.029463</td>\n",
       "    </tr>\n",
       "    <tr>\n",
       "      <th>2178</th>\n",
       "      <td>2020-12-30</td>\n",
       "      <td>26975.729565</td>\n",
       "    </tr>\n",
       "    <tr>\n",
       "      <th>2179</th>\n",
       "      <td>2020-12-31</td>\n",
       "      <td>28768.836208</td>\n",
       "    </tr>\n",
       "  </tbody>\n",
       "</table>\n",
       "<p>2180 rows × 2 columns</p>\n",
       "</div>"
      ],
      "text/plain": [
       "           Date  Closing Price (USD)\n",
       "0    2015-01-02           314.498990\n",
       "1    2015-01-03           311.140990\n",
       "2    2015-01-04           277.853000\n",
       "3    2015-01-05           270.813000\n",
       "4    2015-01-06           272.017500\n",
       "...         ...                  ...\n",
       "2175 2020-12-27         26381.296233\n",
       "2176 2020-12-28         26389.290265\n",
       "2177 2020-12-29         26718.029463\n",
       "2178 2020-12-30         26975.729565\n",
       "2179 2020-12-31         28768.836208\n",
       "\n",
       "[2180 rows x 2 columns]"
      ]
     },
     "execution_count": 9,
     "metadata": {},
     "output_type": "execute_result"
    }
   ],
   "source": [
    "#Required data for prediction \n",
    "newdata=dfCrypto[['Date','Closing Price (USD)']]\n",
    "newdata['Date'] = pd.to_datetime(newdata['Date'])\n",
    "newdata"
   ]
  },
  {
   "cell_type": "code",
   "execution_count": 10,
   "id": "e4073972",
   "metadata": {},
   "outputs": [],
   "source": [
    "#Making Date index values \n",
    "new_data=newdata.set_index(['Date'])"
   ]
  },
  {
   "cell_type": "code",
   "execution_count": 11,
   "id": "d348a28b",
   "metadata": {},
   "outputs": [
    {
     "data": {
      "text/html": [
       "<div>\n",
       "<style scoped>\n",
       "    .dataframe tbody tr th:only-of-type {\n",
       "        vertical-align: middle;\n",
       "    }\n",
       "\n",
       "    .dataframe tbody tr th {\n",
       "        vertical-align: top;\n",
       "    }\n",
       "\n",
       "    .dataframe thead th {\n",
       "        text-align: right;\n",
       "    }\n",
       "</style>\n",
       "<table border=\"1\" class=\"dataframe\">\n",
       "  <thead>\n",
       "    <tr style=\"text-align: right;\">\n",
       "      <th></th>\n",
       "      <th>Closing Price (USD)</th>\n",
       "    </tr>\n",
       "    <tr>\n",
       "      <th>Date</th>\n",
       "      <th></th>\n",
       "    </tr>\n",
       "  </thead>\n",
       "  <tbody>\n",
       "    <tr>\n",
       "      <th>2015-01-02</th>\n",
       "      <td>314.498990</td>\n",
       "    </tr>\n",
       "    <tr>\n",
       "      <th>2015-01-03</th>\n",
       "      <td>311.140990</td>\n",
       "    </tr>\n",
       "    <tr>\n",
       "      <th>2015-01-04</th>\n",
       "      <td>277.853000</td>\n",
       "    </tr>\n",
       "    <tr>\n",
       "      <th>2015-01-05</th>\n",
       "      <td>270.813000</td>\n",
       "    </tr>\n",
       "    <tr>\n",
       "      <th>2015-01-06</th>\n",
       "      <td>272.017500</td>\n",
       "    </tr>\n",
       "    <tr>\n",
       "      <th>...</th>\n",
       "      <td>...</td>\n",
       "    </tr>\n",
       "    <tr>\n",
       "      <th>2020-12-27</th>\n",
       "      <td>26381.296233</td>\n",
       "    </tr>\n",
       "    <tr>\n",
       "      <th>2020-12-28</th>\n",
       "      <td>26389.290265</td>\n",
       "    </tr>\n",
       "    <tr>\n",
       "      <th>2020-12-29</th>\n",
       "      <td>26718.029463</td>\n",
       "    </tr>\n",
       "    <tr>\n",
       "      <th>2020-12-30</th>\n",
       "      <td>26975.729565</td>\n",
       "    </tr>\n",
       "    <tr>\n",
       "      <th>2020-12-31</th>\n",
       "      <td>28768.836208</td>\n",
       "    </tr>\n",
       "  </tbody>\n",
       "</table>\n",
       "<p>2180 rows × 1 columns</p>\n",
       "</div>"
      ],
      "text/plain": [
       "            Closing Price (USD)\n",
       "Date                           \n",
       "2015-01-02           314.498990\n",
       "2015-01-03           311.140990\n",
       "2015-01-04           277.853000\n",
       "2015-01-05           270.813000\n",
       "2015-01-06           272.017500\n",
       "...                         ...\n",
       "2020-12-27         26381.296233\n",
       "2020-12-28         26389.290265\n",
       "2020-12-29         26718.029463\n",
       "2020-12-30         26975.729565\n",
       "2020-12-31         28768.836208\n",
       "\n",
       "[2180 rows x 1 columns]"
      ]
     },
     "execution_count": 11,
     "metadata": {},
     "output_type": "execute_result"
    }
   ],
   "source": [
    "new_data"
   ]
  },
  {
   "cell_type": "code",
   "execution_count": 12,
   "id": "66e46828",
   "metadata": {},
   "outputs": [
    {
     "name": "stdout",
     "output_type": "stream",
     "text": [
      "<class 'pandas.core.frame.DataFrame'>\n",
      "DatetimeIndex: 2180 entries, 2015-01-02 to 2020-12-31\n",
      "Data columns (total 1 columns):\n",
      " #   Column               Non-Null Count  Dtype  \n",
      "---  ------               --------------  -----  \n",
      " 0   Closing Price (USD)  2180 non-null   float64\n",
      "dtypes: float64(1)\n",
      "memory usage: 34.1 KB\n"
     ]
    }
   ],
   "source": [
    "new_data.info()"
   ]
  },
  {
   "cell_type": "code",
   "execution_count": 13,
   "id": "9ce9bff1",
   "metadata": {},
   "outputs": [],
   "source": [
    "#creating train and test sets\n",
    "dataset = new_data.values\n",
    "\n",
    "train = dataset[0:1224,:]\n",
    "valid = dataset[1224:,:]"
   ]
  },
  {
   "cell_type": "code",
   "execution_count": 14,
   "id": "76e978d1",
   "metadata": {},
   "outputs": [
    {
     "data": {
      "text/plain": [
       "array([[[0.00423957],\n",
       "        [0.00412206],\n",
       "        [0.00295715],\n",
       "        ...,\n",
       "        [0.00201862],\n",
       "        [0.00205002],\n",
       "        [0.00229208]],\n",
       "\n",
       "       [[0.00412206],\n",
       "        [0.00295715],\n",
       "        [0.00271078],\n",
       "        ...,\n",
       "        [0.00205002],\n",
       "        [0.00229208],\n",
       "        [0.00270901]],\n",
       "\n",
       "       [[0.00295715],\n",
       "        [0.00271078],\n",
       "        [0.00275293],\n",
       "        ...,\n",
       "        [0.00229208],\n",
       "        [0.00270901],\n",
       "        [0.00296639]],\n",
       "\n",
       "       ...,\n",
       "\n",
       "       [[0.31731247],\n",
       "        [0.26955405],\n",
       "        [0.27457981],\n",
       "        ...,\n",
       "        [0.31963408],\n",
       "        [0.30539832],\n",
       "        [0.28748445]],\n",
       "\n",
       "       [[0.26955405],\n",
       "        [0.27457981],\n",
       "        [0.28042232],\n",
       "        ...,\n",
       "        [0.30539832],\n",
       "        [0.28748445],\n",
       "        [0.28867008]],\n",
       "\n",
       "       [[0.27457981],\n",
       "        [0.28042232],\n",
       "        [0.26157522],\n",
       "        ...,\n",
       "        [0.28748445],\n",
       "        [0.28867008],\n",
       "        [0.28715213]]])"
      ]
     },
     "execution_count": 14,
     "metadata": {},
     "output_type": "execute_result"
    }
   ],
   "source": [
    "#converting dataset into x_train and y_train\n",
    "scaler = MinMaxScaler(feature_range=(0, 1))\n",
    "scaled_data = scaler.fit_transform(dataset)\n",
    "\n",
    "x_train, y_train = [], []\n",
    "for i in range(60,len(train)):\n",
    "    x_train.append(scaled_data[i-60:i,0])\n",
    "    y_train.append(scaled_data[i,0])\n",
    "x_train, y_train = np.array(x_train), np.array(y_train)\n",
    "\n",
    "x_train = np.reshape(x_train, (x_train.shape[0],x_train.shape[1],1))\n",
    "x_train"
   ]
  },
  {
   "cell_type": "code",
   "execution_count": 15,
   "id": "a557fa09",
   "metadata": {},
   "outputs": [
    {
     "name": "stdout",
     "output_type": "stream",
     "text": [
      "1164/1164 - 25s - loss: 0.0011\n"
     ]
    },
    {
     "data": {
      "text/plain": [
       "<keras.callbacks.History at 0x2abbc785be0>"
      ]
     },
     "execution_count": 15,
     "metadata": {},
     "output_type": "execute_result"
    }
   ],
   "source": [
    "# create and fit the LSTM network\n",
    "model = Sequential()\n",
    "model.add(LSTM(units=50, return_sequences=True, input_shape=(x_train.shape[1],1)))\n",
    "model.add(LSTM(units=50))\n",
    "model.add(Dense(1))\n",
    "\n",
    "model.compile(loss='mean_squared_error', optimizer='adam')\n",
    "model.fit(x_train, y_train, epochs=1, batch_size=1,verbose=2)"
   ]
  },
  {
   "cell_type": "code",
   "execution_count": 16,
   "id": "0a897448",
   "metadata": {},
   "outputs": [],
   "source": [
    "#predicting remaining values, using past 60 from the train data\n",
    "inputs = new_data[len(new_data) - len(valid) - 60:].values\n",
    "inputs = inputs.reshape(-1,1)\n",
    "inputs  = scaler.transform(inputs)\n",
    "\n",
    "X_test = []\n",
    "for i in range(60,inputs.shape[0]):\n",
    "    X_test.append(inputs[i-60:i,0])\n",
    "X_test = np.array(X_test)\n",
    "\n",
    "X_test = np.reshape(X_test, (X_test.shape[0],X_test.shape[1],1))\n",
    "closing_price = model.predict(X_test)\n",
    "closing_price = scaler.inverse_transform(closing_price)"
   ]
  },
  {
   "cell_type": "code",
   "execution_count": 18,
   "id": "47d067c2",
   "metadata": {},
   "outputs": [
    {
     "data": {
      "text/plain": [
       "671.4486148334589"
      ]
     },
     "execution_count": 18,
     "metadata": {},
     "output_type": "execute_result"
    }
   ],
   "source": [
    "rms=np.sqrt(np.mean(np.power((valid-closing_price),2)))\n",
    "rms"
   ]
  },
  {
   "cell_type": "code",
   "execution_count": 20,
   "id": "6485dabc",
   "metadata": {},
   "outputs": [
    {
     "name": "stderr",
     "output_type": "stream",
     "text": [
      "<ipython-input-20-3038f676621e>:4: SettingWithCopyWarning: \n",
      "A value is trying to be set on a copy of a slice from a DataFrame.\n",
      "Try using .loc[row_indexer,col_indexer] = value instead\n",
      "\n",
      "See the caveats in the documentation: https://pandas.pydata.org/pandas-docs/stable/user_guide/indexing.html#returning-a-view-versus-a-copy\n",
      "  valid['Predictions'] = closing_price\n"
     ]
    },
    {
     "data": {
      "text/plain": [
       "[<matplotlib.lines.Line2D at 0x2abc2157610>,\n",
       " <matplotlib.lines.Line2D at 0x2abc21576d0>]"
      ]
     },
     "execution_count": 20,
     "metadata": {},
     "output_type": "execute_result"
    },
    {
     "data": {
      "image/png": "[encoded data removed]",
      "text/plain": [
       "<Figure size 1440x720 with 1 Axes>"
      ]
     },
     "metadata": {
      "needs_background": "light"
     },
     "output_type": "display_data"
    }
   ],
   "source": [
    "#for plotting\n",
    "train = new_data[:1224]\n",
    "valid = new_data[1224:]\n",
    "valid['Predictions'] = closing_price\n",
    "plt_1 = plt.figure(figsize=(20, 10))\n",
    "plt.plot(train['Closing Price (USD)'])\n",
    "plt.plot(valid[['Closing Price (USD)','Predictions']])"
   ]
  },
  {
   "cell_type": "code",
   "execution_count": 21,
   "id": "a97c78d5",
   "metadata": {},
   "outputs": [
    {
     "name": "stdout",
     "output_type": "stream",
     "text": [
      "            Closing Price (USD)   Predictions\n",
      "Date                                         \n",
      "2018-05-16          8159.256250   8848.646484\n",
      "2018-05-17          8360.228750   8709.586914\n",
      "2018-05-18          7996.821250   8593.580078\n",
      "2018-05-19          8237.342500   8467.811523\n",
      "2018-05-20          8250.395000   8371.045898\n",
      "...                         ...           ...\n",
      "2020-12-27         26381.296233  22597.341797\n",
      "2020-12-28         26389.290265  22988.349609\n",
      "2020-12-29         26718.029463  23414.626953\n",
      "2020-12-30         26975.729565  23849.201172\n",
      "2020-12-31         28768.836208  24264.621094\n",
      "\n",
      "[956 rows x 2 columns]\n"
     ]
    }
   ],
   "source": [
    "print(valid[['Closing Price (USD)','Predictions']])"
   ]
  },
  {
   "cell_type": "code",
   "execution_count": null,
   "id": "38bc05ee",
   "metadata": {},
   "outputs": [],
   "source": []
  }
 ],
 "metadata": {
  "kernelspec": {
   "display_name": "Python 3",
   "language": "python",
   "name": "python3"
  },
  "language_info": {
   "codemirror_mode": {
    "name": "ipython",
    "version": 3
   },
   "file_extension": ".py",
   "mimetype": "text/x-python",
   "name": "python",
   "nbconvert_exporter": "python",
   "pygments_lexer": "ipython3",
   "version": "3.8.8"
  }
 },
 "nbformat": 4,
 "nbformat_minor": 5
}
