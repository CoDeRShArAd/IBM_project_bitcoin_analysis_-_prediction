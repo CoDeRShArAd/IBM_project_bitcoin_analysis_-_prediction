{
 "cells": [
  {
   "cell_type": "code",
   "execution_count": 1,
   "id": "e047c858",
   "metadata": {
    "scrolled": true
   },
   "outputs": [],
   "source": [
    "import pandas as pd\n",
    "import matplotlib.pyplot as plt\n",
    "\n"
   ]
  },
  {
   "cell_type": "code",
   "execution_count": 2,
   "id": "cb16087f",
   "metadata": {},
   "outputs": [],
   "source": [
    "pd.options.mode.chained_assignment = None"
   ]
  },
  {
   "cell_type": "code",
   "execution_count": 3,
   "id": "e2325cfb",
   "metadata": {},
   "outputs": [],
   "source": [
    "%matplotlib inline\n"
   ]
  },
  {
   "cell_type": "code",
   "execution_count": 4,
   "id": "8402d784",
   "metadata": {},
   "outputs": [],
   "source": [
    "#Read CSV file of bitcoin price \n",
    "price = pd.read_csv(\"bitcoin-price.csv\")"
   ]
  },
  {
   "cell_type": "code",
   "execution_count": 5,
   "id": "fd5e8219",
   "metadata": {},
   "outputs": [
    {
     "data": {
      "text/html": [
       "<div>\n",
       "<style scoped>\n",
       "    .dataframe tbody tr th:only-of-type {\n",
       "        vertical-align: middle;\n",
       "    }\n",
       "\n",
       "    .dataframe tbody tr th {\n",
       "        vertical-align: top;\n",
       "    }\n",
       "\n",
       "    .dataframe thead th {\n",
       "        text-align: right;\n",
       "    }\n",
       "</style>\n",
       "<table border=\"1\" class=\"dataframe\">\n",
       "  <thead>\n",
       "    <tr style=\"text-align: right;\">\n",
       "      <th></th>\n",
       "      <th>Currency</th>\n",
       "      <th>Date</th>\n",
       "      <th>Closing Price (USD)</th>\n",
       "      <th>24h Open (USD)</th>\n",
       "      <th>24h High (USD)</th>\n",
       "      <th>24h Low (USD)</th>\n",
       "    </tr>\n",
       "  </thead>\n",
       "  <tbody>\n",
       "    <tr>\n",
       "      <th>0</th>\n",
       "      <td>BTC</td>\n",
       "      <td>2013-10-01</td>\n",
       "      <td>123.65499</td>\n",
       "      <td>124.30466</td>\n",
       "      <td>124.75166</td>\n",
       "      <td>122.56349</td>\n",
       "    </tr>\n",
       "    <tr>\n",
       "      <th>1</th>\n",
       "      <td>BTC</td>\n",
       "      <td>2013-10-02</td>\n",
       "      <td>125.45500</td>\n",
       "      <td>123.65499</td>\n",
       "      <td>125.75850</td>\n",
       "      <td>123.63383</td>\n",
       "    </tr>\n",
       "    <tr>\n",
       "      <th>2</th>\n",
       "      <td>BTC</td>\n",
       "      <td>2013-10-03</td>\n",
       "      <td>108.58483</td>\n",
       "      <td>125.45500</td>\n",
       "      <td>125.66566</td>\n",
       "      <td>83.32833</td>\n",
       "    </tr>\n",
       "    <tr>\n",
       "      <th>3</th>\n",
       "      <td>BTC</td>\n",
       "      <td>2013-10-04</td>\n",
       "      <td>118.67466</td>\n",
       "      <td>108.58483</td>\n",
       "      <td>118.67500</td>\n",
       "      <td>107.05816</td>\n",
       "    </tr>\n",
       "    <tr>\n",
       "      <th>4</th>\n",
       "      <td>BTC</td>\n",
       "      <td>2013-10-05</td>\n",
       "      <td>121.33866</td>\n",
       "      <td>118.67466</td>\n",
       "      <td>121.93633</td>\n",
       "      <td>118.00566</td>\n",
       "    </tr>\n",
       "  </tbody>\n",
       "</table>\n",
       "</div>"
      ],
      "text/plain": [
       "  Currency        Date  Closing Price (USD)  24h Open (USD)  24h High (USD)  \\\n",
       "0      BTC  2013-10-01            123.65499       124.30466       124.75166   \n",
       "1      BTC  2013-10-02            125.45500       123.65499       125.75850   \n",
       "2      BTC  2013-10-03            108.58483       125.45500       125.66566   \n",
       "3      BTC  2013-10-04            118.67466       108.58483       118.67500   \n",
       "4      BTC  2013-10-05            121.33866       118.67466       121.93633   \n",
       "\n",
       "   24h Low (USD)  \n",
       "0      122.56349  \n",
       "1      123.63383  \n",
       "2       83.32833  \n",
       "3      107.05816  \n",
       "4      118.00566  "
      ]
     },
     "execution_count": 5,
     "metadata": {},
     "output_type": "execute_result"
    }
   ],
   "source": [
    "#Understanding the data\n",
    "#First five rows of the table \n",
    "price.head()"
   ]
  },
  {
   "cell_type": "code",
   "execution_count": 6,
   "id": "fabfb13d",
   "metadata": {},
   "outputs": [
    {
     "name": "stdout",
     "output_type": "stream",
     "text": [
      "<class 'pandas.core.frame.DataFrame'>\n",
      "RangeIndex: 2872 entries, 0 to 2871\n",
      "Data columns (total 6 columns):\n",
      " #   Column               Non-Null Count  Dtype  \n",
      "---  ------               --------------  -----  \n",
      " 0   Currency             2872 non-null   object \n",
      " 1   Date                 2872 non-null   object \n",
      " 2   Closing Price (USD)  2872 non-null   float64\n",
      " 3   24h Open (USD)       2872 non-null   float64\n",
      " 4   24h High (USD)       2872 non-null   float64\n",
      " 5   24h Low (USD)        2872 non-null   float64\n",
      "dtypes: float64(4), object(2)\n",
      "memory usage: 134.8+ KB\n"
     ]
    }
   ],
   "source": [
    "#To know the datatypes and null values.\n",
    "price.info()\n"
   ]
  },
  {
   "cell_type": "code",
   "execution_count": 7,
   "id": "77e8cd8b",
   "metadata": {},
   "outputs": [
    {
     "data": {
      "text/html": [
       "<div>\n",
       "<style scoped>\n",
       "    .dataframe tbody tr th:only-of-type {\n",
       "        vertical-align: middle;\n",
       "    }\n",
       "\n",
       "    .dataframe tbody tr th {\n",
       "        vertical-align: top;\n",
       "    }\n",
       "\n",
       "    .dataframe thead th {\n",
       "        text-align: right;\n",
       "    }\n",
       "</style>\n",
       "<table border=\"1\" class=\"dataframe\">\n",
       "  <thead>\n",
       "    <tr style=\"text-align: right;\">\n",
       "      <th></th>\n",
       "      <th>Currency</th>\n",
       "      <th>Date</th>\n",
       "      <th>Closing Price (USD)</th>\n",
       "      <th>24h Open (USD)</th>\n",
       "      <th>24h High (USD)</th>\n",
       "      <th>24h Low (USD)</th>\n",
       "    </tr>\n",
       "  </thead>\n",
       "  <tbody>\n",
       "    <tr>\n",
       "      <th>2867</th>\n",
       "      <td>BTC</td>\n",
       "      <td>2021-08-08</td>\n",
       "      <td>44095.744494</td>\n",
       "      <td>42826.839764</td>\n",
       "      <td>44587.629916</td>\n",
       "      <td>42494.502990</td>\n",
       "    </tr>\n",
       "    <tr>\n",
       "      <th>2868</th>\n",
       "      <td>BTC</td>\n",
       "      <td>2021-08-09</td>\n",
       "      <td>44294.307300</td>\n",
       "      <td>44581.337697</td>\n",
       "      <td>45303.655828</td>\n",
       "      <td>43280.679092</td>\n",
       "    </tr>\n",
       "    <tr>\n",
       "      <th>2869</th>\n",
       "      <td>BTC</td>\n",
       "      <td>2021-08-10</td>\n",
       "      <td>45990.910066</td>\n",
       "      <td>43803.202992</td>\n",
       "      <td>46426.696748</td>\n",
       "      <td>42814.006981</td>\n",
       "    </tr>\n",
       "    <tr>\n",
       "      <th>2870</th>\n",
       "      <td>BTC</td>\n",
       "      <td>2021-08-11</td>\n",
       "      <td>45576.888880</td>\n",
       "      <td>46266.413160</td>\n",
       "      <td>46691.085535</td>\n",
       "      <td>44670.533448</td>\n",
       "    </tr>\n",
       "    <tr>\n",
       "      <th>2871</th>\n",
       "      <td>BTC</td>\n",
       "      <td>2021-08-12</td>\n",
       "      <td>45793.318934</td>\n",
       "      <td>45605.065444</td>\n",
       "      <td>46767.023762</td>\n",
       "      <td>45400.215066</td>\n",
       "    </tr>\n",
       "  </tbody>\n",
       "</table>\n",
       "</div>"
      ],
      "text/plain": [
       "     Currency        Date  Closing Price (USD)  24h Open (USD)  \\\n",
       "2867      BTC  2021-08-08         44095.744494    42826.839764   \n",
       "2868      BTC  2021-08-09         44294.307300    44581.337697   \n",
       "2869      BTC  2021-08-10         45990.910066    43803.202992   \n",
       "2870      BTC  2021-08-11         45576.888880    46266.413160   \n",
       "2871      BTC  2021-08-12         45793.318934    45605.065444   \n",
       "\n",
       "      24h High (USD)  24h Low (USD)  \n",
       "2867    44587.629916   42494.502990  \n",
       "2868    45303.655828   43280.679092  \n",
       "2869    46426.696748   42814.006981  \n",
       "2870    46691.085535   44670.533448  \n",
       "2871    46767.023762   45400.215066  "
      ]
     },
     "execution_count": 7,
     "metadata": {},
     "output_type": "execute_result"
    }
   ],
   "source": [
    "#last five rows of the data \n",
    "price.tail()"
   ]
  },
  {
   "cell_type": "code",
   "execution_count": 8,
   "id": "160dacd8",
   "metadata": {},
   "outputs": [],
   "source": [
    "#cleaning The data\n",
    "#Remove all null values from rows and columns.\n",
    "price = price.dropna()"
   ]
  },
  {
   "cell_type": "code",
   "execution_count": 9,
   "id": "afcc3cb4",
   "metadata": {},
   "outputs": [
    {
     "data": {
      "text/html": [
       "<div>\n",
       "<style scoped>\n",
       "    .dataframe tbody tr th:only-of-type {\n",
       "        vertical-align: middle;\n",
       "    }\n",
       "\n",
       "    .dataframe tbody tr th {\n",
       "        vertical-align: top;\n",
       "    }\n",
       "\n",
       "    .dataframe thead th {\n",
       "        text-align: right;\n",
       "    }\n",
       "</style>\n",
       "<table border=\"1\" class=\"dataframe\">\n",
       "  <thead>\n",
       "    <tr style=\"text-align: right;\">\n",
       "      <th></th>\n",
       "      <th>Currency</th>\n",
       "      <th>Date</th>\n",
       "      <th>Closing Price (USD)</th>\n",
       "      <th>24h Open (USD)</th>\n",
       "      <th>24h High (USD)</th>\n",
       "      <th>24h Low (USD)</th>\n",
       "    </tr>\n",
       "  </thead>\n",
       "  <tbody>\n",
       "    <tr>\n",
       "      <th>2867</th>\n",
       "      <td>BTC</td>\n",
       "      <td>2021-08-08</td>\n",
       "      <td>44095.744494</td>\n",
       "      <td>42826.839764</td>\n",
       "      <td>44587.629916</td>\n",
       "      <td>42494.502990</td>\n",
       "    </tr>\n",
       "    <tr>\n",
       "      <th>2868</th>\n",
       "      <td>BTC</td>\n",
       "      <td>2021-08-09</td>\n",
       "      <td>44294.307300</td>\n",
       "      <td>44581.337697</td>\n",
       "      <td>45303.655828</td>\n",
       "      <td>43280.679092</td>\n",
       "    </tr>\n",
       "    <tr>\n",
       "      <th>2869</th>\n",
       "      <td>BTC</td>\n",
       "      <td>2021-08-10</td>\n",
       "      <td>45990.910066</td>\n",
       "      <td>43803.202992</td>\n",
       "      <td>46426.696748</td>\n",
       "      <td>42814.006981</td>\n",
       "    </tr>\n",
       "    <tr>\n",
       "      <th>2870</th>\n",
       "      <td>BTC</td>\n",
       "      <td>2021-08-11</td>\n",
       "      <td>45576.888880</td>\n",
       "      <td>46266.413160</td>\n",
       "      <td>46691.085535</td>\n",
       "      <td>44670.533448</td>\n",
       "    </tr>\n",
       "    <tr>\n",
       "      <th>2871</th>\n",
       "      <td>BTC</td>\n",
       "      <td>2021-08-12</td>\n",
       "      <td>45793.318934</td>\n",
       "      <td>45605.065444</td>\n",
       "      <td>46767.023762</td>\n",
       "      <td>45400.215066</td>\n",
       "    </tr>\n",
       "  </tbody>\n",
       "</table>\n",
       "</div>"
      ],
      "text/plain": [
       "     Currency        Date  Closing Price (USD)  24h Open (USD)  \\\n",
       "2867      BTC  2021-08-08         44095.744494    42826.839764   \n",
       "2868      BTC  2021-08-09         44294.307300    44581.337697   \n",
       "2869      BTC  2021-08-10         45990.910066    43803.202992   \n",
       "2870      BTC  2021-08-11         45576.888880    46266.413160   \n",
       "2871      BTC  2021-08-12         45793.318934    45605.065444   \n",
       "\n",
       "      24h High (USD)  24h Low (USD)  \n",
       "2867    44587.629916   42494.502990  \n",
       "2868    45303.655828   43280.679092  \n",
       "2869    46426.696748   42814.006981  \n",
       "2870    46691.085535   44670.533448  \n",
       "2871    46767.023762   45400.215066  "
      ]
     },
     "execution_count": 9,
     "metadata": {},
     "output_type": "execute_result"
    }
   ],
   "source": [
    "price.tail()"
   ]
  },
  {
   "cell_type": "code",
   "execution_count": 10,
   "id": "6e09895a",
   "metadata": {},
   "outputs": [
    {
     "name": "stdout",
     "output_type": "stream",
     "text": [
      "<class 'pandas.core.frame.DataFrame'>\n",
      "Int64Index: 2872 entries, 0 to 2871\n",
      "Data columns (total 6 columns):\n",
      " #   Column               Non-Null Count  Dtype  \n",
      "---  ------               --------------  -----  \n",
      " 0   Currency             2872 non-null   object \n",
      " 1   Date                 2872 non-null   object \n",
      " 2   Closing Price (USD)  2872 non-null   float64\n",
      " 3   24h Open (USD)       2872 non-null   float64\n",
      " 4   24h High (USD)       2872 non-null   float64\n",
      " 5   24h Low (USD)        2872 non-null   float64\n",
      "dtypes: float64(4), object(2)\n",
      "memory usage: 157.1+ KB\n"
     ]
    }
   ],
   "source": [
    "price.info()\n"
   ]
  },
  {
   "cell_type": "code",
   "execution_count": 11,
   "id": "68ba1d4f",
   "metadata": {},
   "outputs": [],
   "source": [
    "#Changing the data type of date from object to datetime\n",
    "price['Date'] = pd.to_datetime(price['Date'],format = \"%Y-%m-%d\")"
   ]
  },
  {
   "cell_type": "code",
   "execution_count": 12,
   "id": "f1889fd6",
   "metadata": {},
   "outputs": [
    {
     "name": "stdout",
     "output_type": "stream",
     "text": [
      "<class 'pandas.core.frame.DataFrame'>\n",
      "Int64Index: 2872 entries, 0 to 2871\n",
      "Data columns (total 6 columns):\n",
      " #   Column               Non-Null Count  Dtype         \n",
      "---  ------               --------------  -----         \n",
      " 0   Currency             2872 non-null   object        \n",
      " 1   Date                 2872 non-null   datetime64[ns]\n",
      " 2   Closing Price (USD)  2872 non-null   float64       \n",
      " 3   24h Open (USD)       2872 non-null   float64       \n",
      " 4   24h High (USD)       2872 non-null   float64       \n",
      " 5   24h Low (USD)        2872 non-null   float64       \n",
      "dtypes: datetime64[ns](1), float64(4), object(1)\n",
      "memory usage: 157.1+ KB\n"
     ]
    }
   ],
   "source": [
    "price.info()\n"
   ]
  },
  {
   "cell_type": "code",
   "execution_count": 13,
   "id": "d1ee502d",
   "metadata": {},
   "outputs": [],
   "source": [
    "#Changing the index of the Table to date\n",
    "price.index = price[\"Date\"]"
   ]
  },
  {
   "cell_type": "code",
   "execution_count": 14,
   "id": "3f8e80f3",
   "metadata": {},
   "outputs": [],
   "source": [
    "del price['Date']"
   ]
  },
  {
   "cell_type": "code",
   "execution_count": 15,
   "id": "531839e8",
   "metadata": {},
   "outputs": [
    {
     "data": {
      "text/html": [
       "<div>\n",
       "<style scoped>\n",
       "    .dataframe tbody tr th:only-of-type {\n",
       "        vertical-align: middle;\n",
       "    }\n",
       "\n",
       "    .dataframe tbody tr th {\n",
       "        vertical-align: top;\n",
       "    }\n",
       "\n",
       "    .dataframe thead th {\n",
       "        text-align: right;\n",
       "    }\n",
       "</style>\n",
       "<table border=\"1\" class=\"dataframe\">\n",
       "  <thead>\n",
       "    <tr style=\"text-align: right;\">\n",
       "      <th></th>\n",
       "      <th>Currency</th>\n",
       "      <th>Closing Price (USD)</th>\n",
       "      <th>24h Open (USD)</th>\n",
       "      <th>24h High (USD)</th>\n",
       "      <th>24h Low (USD)</th>\n",
       "    </tr>\n",
       "    <tr>\n",
       "      <th>Date</th>\n",
       "      <th></th>\n",
       "      <th></th>\n",
       "      <th></th>\n",
       "      <th></th>\n",
       "      <th></th>\n",
       "    </tr>\n",
       "  </thead>\n",
       "  <tbody>\n",
       "    <tr>\n",
       "      <th>2013-10-01</th>\n",
       "      <td>BTC</td>\n",
       "      <td>123.65499</td>\n",
       "      <td>124.30466</td>\n",
       "      <td>124.75166</td>\n",
       "      <td>122.56349</td>\n",
       "    </tr>\n",
       "    <tr>\n",
       "      <th>2013-10-02</th>\n",
       "      <td>BTC</td>\n",
       "      <td>125.45500</td>\n",
       "      <td>123.65499</td>\n",
       "      <td>125.75850</td>\n",
       "      <td>123.63383</td>\n",
       "    </tr>\n",
       "    <tr>\n",
       "      <th>2013-10-03</th>\n",
       "      <td>BTC</td>\n",
       "      <td>108.58483</td>\n",
       "      <td>125.45500</td>\n",
       "      <td>125.66566</td>\n",
       "      <td>83.32833</td>\n",
       "    </tr>\n",
       "    <tr>\n",
       "      <th>2013-10-04</th>\n",
       "      <td>BTC</td>\n",
       "      <td>118.67466</td>\n",
       "      <td>108.58483</td>\n",
       "      <td>118.67500</td>\n",
       "      <td>107.05816</td>\n",
       "    </tr>\n",
       "    <tr>\n",
       "      <th>2013-10-05</th>\n",
       "      <td>BTC</td>\n",
       "      <td>121.33866</td>\n",
       "      <td>118.67466</td>\n",
       "      <td>121.93633</td>\n",
       "      <td>118.00566</td>\n",
       "    </tr>\n",
       "  </tbody>\n",
       "</table>\n",
       "</div>"
      ],
      "text/plain": [
       "           Currency  Closing Price (USD)  24h Open (USD)  24h High (USD)  \\\n",
       "Date                                                                       \n",
       "2013-10-01      BTC            123.65499       124.30466       124.75166   \n",
       "2013-10-02      BTC            125.45500       123.65499       125.75850   \n",
       "2013-10-03      BTC            108.58483       125.45500       125.66566   \n",
       "2013-10-04      BTC            118.67466       108.58483       118.67500   \n",
       "2013-10-05      BTC            121.33866       118.67466       121.93633   \n",
       "\n",
       "            24h Low (USD)  \n",
       "Date                       \n",
       "2013-10-01      122.56349  \n",
       "2013-10-02      123.63383  \n",
       "2013-10-03       83.32833  \n",
       "2013-10-04      107.05816  \n",
       "2013-10-05      118.00566  "
      ]
     },
     "execution_count": 15,
     "metadata": {},
     "output_type": "execute_result"
    }
   ],
   "source": [
    "#After changing the index of the table table head looks like this.\n",
    "price.head()"
   ]
  },
  {
   "cell_type": "code",
   "execution_count": 16,
   "id": "7260c522",
   "metadata": {},
   "outputs": [
    {
     "data": {
      "text/html": [
       "<div>\n",
       "<style scoped>\n",
       "    .dataframe tbody tr th:only-of-type {\n",
       "        vertical-align: middle;\n",
       "    }\n",
       "\n",
       "    .dataframe tbody tr th {\n",
       "        vertical-align: top;\n",
       "    }\n",
       "\n",
       "    .dataframe thead th {\n",
       "        text-align: right;\n",
       "    }\n",
       "</style>\n",
       "<table border=\"1\" class=\"dataframe\">\n",
       "  <thead>\n",
       "    <tr style=\"text-align: right;\">\n",
       "      <th></th>\n",
       "      <th>Currency</th>\n",
       "      <th>Closing Price (USD)</th>\n",
       "      <th>24h Open (USD)</th>\n",
       "      <th>24h High (USD)</th>\n",
       "      <th>24h Low (USD)</th>\n",
       "    </tr>\n",
       "    <tr>\n",
       "      <th>Date</th>\n",
       "      <th></th>\n",
       "      <th></th>\n",
       "      <th></th>\n",
       "      <th></th>\n",
       "      <th></th>\n",
       "    </tr>\n",
       "  </thead>\n",
       "  <tbody>\n",
       "    <tr>\n",
       "      <th>2013-10-01</th>\n",
       "      <td>BTC</td>\n",
       "      <td>123.65499</td>\n",
       "      <td>124.30466</td>\n",
       "      <td>124.75166</td>\n",
       "      <td>122.56349</td>\n",
       "    </tr>\n",
       "    <tr>\n",
       "      <th>2013-10-02</th>\n",
       "      <td>BTC</td>\n",
       "      <td>125.45500</td>\n",
       "      <td>123.65499</td>\n",
       "      <td>125.75850</td>\n",
       "      <td>123.63383</td>\n",
       "    </tr>\n",
       "    <tr>\n",
       "      <th>2013-10-03</th>\n",
       "      <td>BTC</td>\n",
       "      <td>108.58483</td>\n",
       "      <td>125.45500</td>\n",
       "      <td>125.66566</td>\n",
       "      <td>83.32833</td>\n",
       "    </tr>\n",
       "    <tr>\n",
       "      <th>2013-10-04</th>\n",
       "      <td>BTC</td>\n",
       "      <td>118.67466</td>\n",
       "      <td>108.58483</td>\n",
       "      <td>118.67500</td>\n",
       "      <td>107.05816</td>\n",
       "    </tr>\n",
       "    <tr>\n",
       "      <th>2013-10-05</th>\n",
       "      <td>BTC</td>\n",
       "      <td>121.33866</td>\n",
       "      <td>118.67466</td>\n",
       "      <td>121.93633</td>\n",
       "      <td>118.00566</td>\n",
       "    </tr>\n",
       "    <tr>\n",
       "      <th>...</th>\n",
       "      <td>...</td>\n",
       "      <td>...</td>\n",
       "      <td>...</td>\n",
       "      <td>...</td>\n",
       "      <td>...</td>\n",
       "    </tr>\n",
       "    <tr>\n",
       "      <th>2013-12-27</th>\n",
       "      <td>BTC</td>\n",
       "      <td>758.01016</td>\n",
       "      <td>702.00083</td>\n",
       "      <td>780.93666</td>\n",
       "      <td>698.07000</td>\n",
       "    </tr>\n",
       "    <tr>\n",
       "      <th>2013-12-28</th>\n",
       "      <td>BTC</td>\n",
       "      <td>734.01166</td>\n",
       "      <td>758.01016</td>\n",
       "      <td>772.90666</td>\n",
       "      <td>723.98666</td>\n",
       "    </tr>\n",
       "    <tr>\n",
       "      <th>2013-12-29</th>\n",
       "      <td>BTC</td>\n",
       "      <td>717.92623</td>\n",
       "      <td>734.01166</td>\n",
       "      <td>753.83333</td>\n",
       "      <td>705.10250</td>\n",
       "    </tr>\n",
       "    <tr>\n",
       "      <th>2013-12-30</th>\n",
       "      <td>BTC</td>\n",
       "      <td>752.82022</td>\n",
       "      <td>717.92623</td>\n",
       "      <td>759.63620</td>\n",
       "      <td>713.75100</td>\n",
       "    </tr>\n",
       "    <tr>\n",
       "      <th>2013-12-31</th>\n",
       "      <td>BTC</td>\n",
       "      <td>744.17249</td>\n",
       "      <td>752.82022</td>\n",
       "      <td>763.83000</td>\n",
       "      <td>743.70000</td>\n",
       "    </tr>\n",
       "  </tbody>\n",
       "</table>\n",
       "<p>92 rows × 5 columns</p>\n",
       "</div>"
      ],
      "text/plain": [
       "           Currency  Closing Price (USD)  24h Open (USD)  24h High (USD)  \\\n",
       "Date                                                                       \n",
       "2013-10-01      BTC            123.65499       124.30466       124.75166   \n",
       "2013-10-02      BTC            125.45500       123.65499       125.75850   \n",
       "2013-10-03      BTC            108.58483       125.45500       125.66566   \n",
       "2013-10-04      BTC            118.67466       108.58483       118.67500   \n",
       "2013-10-05      BTC            121.33866       118.67466       121.93633   \n",
       "...             ...                  ...             ...             ...   \n",
       "2013-12-27      BTC            758.01016       702.00083       780.93666   \n",
       "2013-12-28      BTC            734.01166       758.01016       772.90666   \n",
       "2013-12-29      BTC            717.92623       734.01166       753.83333   \n",
       "2013-12-30      BTC            752.82022       717.92623       759.63620   \n",
       "2013-12-31      BTC            744.17249       752.82022       763.83000   \n",
       "\n",
       "            24h Low (USD)  \n",
       "Date                       \n",
       "2013-10-01      122.56349  \n",
       "2013-10-02      123.63383  \n",
       "2013-10-03       83.32833  \n",
       "2013-10-04      107.05816  \n",
       "2013-10-05      118.00566  \n",
       "...                   ...  \n",
       "2013-12-27      698.07000  \n",
       "2013-12-28      723.98666  \n",
       "2013-12-29      705.10250  \n",
       "2013-12-30      713.75100  \n",
       "2013-12-31      743.70000  \n",
       "\n",
       "[92 rows x 5 columns]"
      ]
     },
     "execution_count": 16,
     "metadata": {},
     "output_type": "execute_result"
    }
   ],
   "source": [
    "#We can retrieve the price of particular year. \n",
    "price.loc['2013']\n"
   ]
  },
  {
   "cell_type": "code",
   "execution_count": 17,
   "id": "15d21681",
   "metadata": {},
   "outputs": [
    {
     "data": {
      "text/plain": [
       "Currency                      BTC\n",
       "Closing Price (USD)    2867.65375\n",
       "24h Open (USD)          2718.6175\n",
       "24h High (USD)         2902.37125\n",
       "24h Low (USD)           2706.8225\n",
       "Name: 2017-08-01 00:00:00, dtype: object"
      ]
     },
     "execution_count": 17,
     "metadata": {},
     "output_type": "execute_result"
    }
   ],
   "source": [
    "# We can retrieve the price of particular year and particular date also.\n",
    "price.loc['2017-08-01']"
   ]
  },
  {
   "cell_type": "code",
   "execution_count": 18,
   "id": "b4b7bcdc",
   "metadata": {},
   "outputs": [
    {
     "data": {
      "text/plain": [
       "Currency                     BTC\n",
       "Closing Price (USD)    108.58483\n",
       "24h Open (USD)         108.58483\n",
       "24h High (USD)           118.675\n",
       "24h Low (USD)           83.32833\n",
       "dtype: object"
      ]
     },
     "execution_count": 18,
     "metadata": {},
     "output_type": "execute_result"
    }
   ],
   "source": [
    "#Minimum price of the Bitcoin.\n",
    "price.min()"
   ]
  },
  {
   "cell_type": "code",
   "execution_count": 19,
   "id": "e40f90ed",
   "metadata": {},
   "outputs": [
    {
     "data": {
      "text/plain": [
       "Currency                        BTC\n",
       "Closing Price (USD)    63346.789035\n",
       "24h Open (USD)         63562.673545\n",
       "24h High (USD)          64801.78787\n",
       "24h Low (USD)          62094.632914\n",
       "dtype: object"
      ]
     },
     "execution_count": 19,
     "metadata": {},
     "output_type": "execute_result"
    }
   ],
   "source": [
    "#Maximum price of the Bitcoin.\n",
    "price.max()"
   ]
  },
  {
   "cell_type": "code",
   "execution_count": 20,
   "id": "f00f29b3",
   "metadata": {},
   "outputs": [
    {
     "data": {
      "text/html": [
       "<div>\n",
       "<style scoped>\n",
       "    .dataframe tbody tr th:only-of-type {\n",
       "        vertical-align: middle;\n",
       "    }\n",
       "\n",
       "    .dataframe tbody tr th {\n",
       "        vertical-align: top;\n",
       "    }\n",
       "\n",
       "    .dataframe thead th {\n",
       "        text-align: right;\n",
       "    }\n",
       "</style>\n",
       "<table border=\"1\" class=\"dataframe\">\n",
       "  <thead>\n",
       "    <tr style=\"text-align: right;\">\n",
       "      <th></th>\n",
       "      <th>Closing Price (USD)</th>\n",
       "      <th>24h Open (USD)</th>\n",
       "      <th>24h High (USD)</th>\n",
       "      <th>24h Low (USD)</th>\n",
       "    </tr>\n",
       "  </thead>\n",
       "  <tbody>\n",
       "    <tr>\n",
       "      <th>count</th>\n",
       "      <td>2872.000000</td>\n",
       "      <td>2872.000000</td>\n",
       "      <td>2872.000000</td>\n",
       "      <td>2872.000000</td>\n",
       "    </tr>\n",
       "    <tr>\n",
       "      <th>mean</th>\n",
       "      <td>7424.449972</td>\n",
       "      <td>7410.507505</td>\n",
       "      <td>7637.803267</td>\n",
       "      <td>7160.949628</td>\n",
       "    </tr>\n",
       "    <tr>\n",
       "      <th>std</th>\n",
       "      <td>11890.217109</td>\n",
       "      <td>11873.995744</td>\n",
       "      <td>12255.446304</td>\n",
       "      <td>11435.340125</td>\n",
       "    </tr>\n",
       "    <tr>\n",
       "      <th>min</th>\n",
       "      <td>108.584830</td>\n",
       "      <td>108.584830</td>\n",
       "      <td>118.675000</td>\n",
       "      <td>83.328330</td>\n",
       "    </tr>\n",
       "    <tr>\n",
       "      <th>25%</th>\n",
       "      <td>474.901563</td>\n",
       "      <td>474.479688</td>\n",
       "      <td>488.196250</td>\n",
       "      <td>464.489062</td>\n",
       "    </tr>\n",
       "    <tr>\n",
       "      <th>50%</th>\n",
       "      <td>3534.042238</td>\n",
       "      <td>3528.292065</td>\n",
       "      <td>3591.415316</td>\n",
       "      <td>3419.699919</td>\n",
       "    </tr>\n",
       "    <tr>\n",
       "      <th>75%</th>\n",
       "      <td>8942.367285</td>\n",
       "      <td>8932.574061</td>\n",
       "      <td>9190.901825</td>\n",
       "      <td>8704.507605</td>\n",
       "    </tr>\n",
       "    <tr>\n",
       "      <th>max</th>\n",
       "      <td>63346.789035</td>\n",
       "      <td>63562.673545</td>\n",
       "      <td>64801.787870</td>\n",
       "      <td>62094.632914</td>\n",
       "    </tr>\n",
       "  </tbody>\n",
       "</table>\n",
       "</div>"
      ],
      "text/plain": [
       "       Closing Price (USD)  24h Open (USD)  24h High (USD)  24h Low (USD)\n",
       "count          2872.000000     2872.000000     2872.000000    2872.000000\n",
       "mean           7424.449972     7410.507505     7637.803267    7160.949628\n",
       "std           11890.217109    11873.995744    12255.446304   11435.340125\n",
       "min             108.584830      108.584830      118.675000      83.328330\n",
       "25%             474.901563      474.479688      488.196250     464.489062\n",
       "50%            3534.042238     3528.292065     3591.415316    3419.699919\n",
       "75%            8942.367285     8932.574061     9190.901825    8704.507605\n",
       "max           63346.789035    63562.673545    64801.787870   62094.632914"
      ]
     },
     "execution_count": 20,
     "metadata": {},
     "output_type": "execute_result"
    }
   ],
   "source": [
    "price.describe()"
   ]
  },
  {
   "cell_type": "code",
   "execution_count": 21,
   "id": "b5026c94",
   "metadata": {},
   "outputs": [
    {
     "data": {
      "text/plain": [
       "<AxesSubplot:xlabel='Date'>"
      ]
     },
     "execution_count": 21,
     "metadata": {},
     "output_type": "execute_result"
    },
    {
     "data": {
      "image/png": "[encoded data removed]",
      "text/plain": [
       "<Figure size 432x288 with 1 Axes>"
      ]
     },
     "metadata": {
      "needs_background": "light"
     },
     "output_type": "display_data"
    }
   ],
   "source": [
    "#Ploting the price in a graph.\n",
    "price.plot()"
   ]
  },
  {
   "cell_type": "code",
   "execution_count": 22,
   "id": "30f95781",
   "metadata": {},
   "outputs": [
    {
     "data": {
      "text/plain": [
       "<AxesSubplot:xlabel='Date', ylabel='Price'>"
      ]
     },
     "execution_count": 22,
     "metadata": {},
     "output_type": "execute_result"
    },
    {
     "data": {
      "image/png": "[encoded data removed]",
      "text/plain": [
       "<Figure size 432x288 with 1 Axes>"
      ]
     },
     "metadata": {
      "needs_background": "light"
     },
     "output_type": "display_data"
    }
   ],
   "source": [
    "price.loc['2017'].plot(xlabel='Date',ylabel='Price') "
   ]
  },
  {
   "cell_type": "code",
   "execution_count": 23,
   "id": "53624281",
   "metadata": {},
   "outputs": [
    {
     "name": "stdout",
     "output_type": "stream",
     "text": [
      "Date\n",
      "2013-10-01      123.654990\n",
      "2013-10-02      125.455000\n",
      "2013-10-03      108.584830\n",
      "2013-10-04      118.674660\n",
      "2013-10-05      121.338660\n",
      "                  ...     \n",
      "2021-08-08    44095.744494\n",
      "2021-08-09    44294.307300\n",
      "2021-08-10    45990.910066\n",
      "2021-08-11    45576.888880\n",
      "2021-08-12    45793.318934\n",
      "Name: Closing Price (USD), Length: 2872, dtype: float64\n"
     ]
    }
   ],
   "source": [
    "print(price['Closing Price (USD)'])"
   ]
  },
  {
   "cell_type": "code",
   "execution_count": 24,
   "id": "9ae5f42f",
   "metadata": {},
   "outputs": [
    {
     "data": {
      "text/plain": [
       "<AxesSubplot:xlabel='Date\\n\\n24 HOURS CLOSING DATA', ylabel='Price'>"
      ]
     },
     "execution_count": 24,
     "metadata": {},
     "output_type": "execute_result"
    },
    {
     "data": {
      "image/png": "[encoded data removed]",
      "text/plain": [
       "<Figure size 432x288 with 1 Axes>"
      ]
     },
     "metadata": {
      "needs_background": "light"
     },
     "output_type": "display_data"
    }
   ],
   "source": [
    "price['Closing Price (USD)'].plot(color ='y',xlabel='Date\\n\\n24 HOURS CLOSING DATA',ylabel='Price')"
   ]
  },
  {
   "cell_type": "code",
   "execution_count": 25,
   "id": "b159fe44",
   "metadata": {},
   "outputs": [
    {
     "data": {
      "text/plain": [
       "<AxesSubplot:xlabel='Date\\n\\n24 HOURS OPEN DATA', ylabel='Price'>"
      ]
     },
     "execution_count": 25,
     "metadata": {},
     "output_type": "execute_result"
    },
    {
     "data": {
      "image/png": "[encoded data removed]",
      "text/plain": [
       "<Figure size 432x288 with 1 Axes>"
      ]
     },
     "metadata": {
      "needs_background": "light"
     },
     "output_type": "display_data"
    }
   ],
   "source": [
    "price['24h Open (USD)'].plot(color ='c',xlabel='Date\\n\\n24 HOURS OPEN DATA',ylabel='Price')"
   ]
  },
  {
   "cell_type": "code",
   "execution_count": 26,
   "id": "8f0c38b8",
   "metadata": {},
   "outputs": [
    {
     "data": {
      "text/plain": [
       "<AxesSubplot:xlabel='Date\\n\\n24 HOURS HIGH DATA', ylabel='Price'>"
      ]
     },
     "execution_count": 26,
     "metadata": {},
     "output_type": "execute_result"
    },
    {
     "data": {
      "image/png": "[encoded data removed]",
      "text/plain": [
       "<Figure size 432x288 with 1 Axes>"
      ]
     },
     "metadata": {
      "needs_background": "light"
     },
     "output_type": "display_data"
    }
   ],
   "source": [
    "price['24h High (USD)'].plot(color ='g',xlabel='Date\\n\\n24 HOURS HIGH DATA',ylabel='Price')"
   ]
  },
  {
   "cell_type": "code",
   "execution_count": 27,
   "id": "a50f4161",
   "metadata": {},
   "outputs": [
    {
     "data": {
      "text/plain": [
       "<AxesSubplot:xlabel='Date\\n\\n24 HOURS LOW DATA', ylabel='Price'>"
      ]
     },
     "execution_count": 27,
     "metadata": {},
     "output_type": "execute_result"
    },
    {
     "data": {
      "image/png": "[encoded data removed]",
      "text/plain": [
       "<Figure size 432x288 with 1 Axes>"
      ]
     },
     "metadata": {
      "needs_background": "light"
     },
     "output_type": "display_data"
    }
   ],
   "source": [
    "price['24h Low (USD)'].plot(color ='m',xlabel='Date\\n\\n24 HOURS LOW DATA',ylabel='Price')"
   ]
  },
  {
   "cell_type": "code",
   "execution_count": 28,
   "id": "a1304f61",
   "metadata": {},
   "outputs": [
    {
     "data": {
      "text/plain": [
       "<AxesSubplot:xlabel='Date\\n\\n24 HOURS LOW DATA', ylabel='Price'>"
      ]
     },
     "execution_count": 28,
     "metadata": {},
     "output_type": "execute_result"
    },
    {
     "data": {
      "image/png": "[encoded data removed]",
      "text/plain": [
       "<Figure size 432x288 with 1 Axes>"
      ]
     },
     "metadata": {
      "needs_background": "light"
     },
     "output_type": "display_data"
    }
   ],
   "source": [
    "price.loc['2017','24h Low (USD)'].plot(color ='r',xlabel='Date\\n\\n24 HOURS LOW DATA',ylabel='Price')"
   ]
  },
  {
   "cell_type": "code",
   "execution_count": 31,
   "id": "66f627d1",
   "metadata": {},
   "outputs": [
    {
     "data": {
      "text/plain": [
       "[<matplotlib.lines.Line2D at 0x1e97db42250>]"
      ]
     },
     "execution_count": 31,
     "metadata": {},
     "output_type": "execute_result"
    },
    {
     "data": {
      "image/png": "[encoded data removed]",
      "text/plain": [
       "<Figure size 432x288 with 1 Axes>"
      ]
     },
     "metadata": {
      "needs_background": "light"
     },
     "output_type": "display_data"
    }
   ],
   "source": [
    "import matplotlib.pyplot as plt\n",
    "plt.plot(price[\"Closing Price (USD)\"],label='Close Price history')"
   ]
  },
  {
   "cell_type": "code",
   "execution_count": null,
   "id": "ffc763d1",
   "metadata": {},
   "outputs": [],
   "source": []
  }
 ],
 "metadata": {
  "kernelspec": {
   "display_name": "Python 3",
   "language": "python",
   "name": "python3"
  },
  "language_info": {
   "codemirror_mode": {
    "name": "ipython",
    "version": 3
   },
   "file_extension": ".py",
   "mimetype": "text/x-python",
   "name": "python",
   "nbconvert_exporter": "python",
   "pygments_lexer": "ipython3",
   "version": "3.8.8"
  }
 },
 "nbformat": 4,
 "nbformat_minor": 5
}
